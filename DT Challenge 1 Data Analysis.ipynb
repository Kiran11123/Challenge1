{
 "cells": [
  {
   "cell_type": "code",
   "execution_count": null,
   "metadata": {},
   "outputs": [],
   "source": [
    "import numpy as np\n",
    "import matplotlib.pyplot as plt\n",
    "import pandas as pd\n",
    "from scipy import stats\n",
    "from sklearn import datasets, linear_model\n",
    "from sklearn.model_selection import train_test_split\n",
    "from sklearn.linear_model import LinearRegression\n",
    "from sklearn.metrics import mean_squared_error, r2_score, mean_absolute_error, root_mean_squared_error\n",
    "import seaborn as sns\n",
    "\n",
    "file_path = r'C:/Users/Dark Hades/Desktop/Challenge1_Data_Analysis_Dataset.csv'\n",
    "df = pd.read_csv(file_path)"
   ]
  },
  {
   "cell_type": "code",
   "execution_count": null,
   "metadata": {},
   "outputs": [],
   "source": [
    "df"
   ]
  },
  {
   "cell_type": "code",
   "execution_count": null,
   "metadata": {},
   "outputs": [],
   "source": [
    "df2 = df.copy()\n",
    "df2['Duration_H:M'] = pd.to_datetime(df2['Duration'], format='%H:%M:%S').dt.strftime('%H:%M')\n",
    "df2['StartTime_H:M'] = pd.to_datetime(df2['Start time'], format='%H:%M:%S').dt.strftime('%H:%M')\n",
    "df2['EndTime_H:M'] = pd.to_datetime(df2['End time'], format='%H:%M:%S').dt.strftime('%H:%M')\n",
    "df2.head(5)"
   ]
  },
  {
   "cell_type": "code",
   "execution_count": null,
   "metadata": {},
   "outputs": [],
   "source": [
    "df2.describe(include='all')"
   ]
  },
  {
   "cell_type": "code",
   "execution_count": null,
   "metadata": {},
   "outputs": [],
   "source": [
    "df2.info()"
   ]
  },
  {
   "cell_type": "code",
   "execution_count": null,
   "metadata": {},
   "outputs": [],
   "source": [
    "\n",
    "# Filter for SE and PBR subjects\n",
    "se_data = df[df['Subject'] == 'SE']\n",
    "pbr_data = df[df['Subject'] == 'PBR']\n",
    "dt_data = df[df['Subject'] == 'DT']\n",
    "ppi_data = df[df['Subject'] == 'PPI']\n",
    "dbw_data = df[df['Subject'] == 'dbw']\n",
    "\n",
    "\n",
    "# Calculate average mood level for each subject\n",
    "avg_mood_se = se_data['Mood Level'].mean()\n",
    "avg_mood_pbr = pbr_data['Mood Level'].mean()\n",
    "avg_mood_dt = dt_data['Mood Level'].mean()\n",
    "avg_mood_dbw = dbw_data['Mood Level'].mean()\n",
    "avg_mood_ppi = ppi_data['Mood Level'].mean()\n",
    "\n",
    "\n",
    "# Calculate task completion rate for each subject\n",
    "task_completion_rate_se = se_data['Task'].mean() * 100  # in percentage\n",
    "task_completion_rate_pbr = pbr_data['Task'].mean() * 100  # in percentage\n",
    "task_completion_rate_dt = dt_data['Task'].mean() * 100  # in percentage\n",
    "task_completion_rate_dbw = dbw_data['Task'].mean() * 100  # in percentage\n",
    "task_completion_rate_ppi = ppi_data['Task'].mean() * 100  # in percentage\n",
    "\n",
    "\n",
    "# Display results\n",
    "\n",
    "\n",
    "# Visualization\n",
    "subjects = ['SE', 'PBR', 'DT', 'DBW', 'PPI']\n",
    "avg_moods = [avg_mood_se, avg_mood_pbr, avg_mood_dt, avg_mood_dbw, avg_mood_ppi]\n",
    "task_completion_rates = [task_completion_rate_se, task_completion_rate_pbr, task_completion_rate_dt, task_completion_rate_dbw, task_completion_rate_ppi]\n",
    "\n",
    "# Plot Average Mood Levels\n",
    "plt.figure(figsize=(10, 5))\n",
    "plt.subplot(1, 2, 1)\n",
    "plt.bar(subjects, avg_moods, color=['blue', 'orange', 'red', 'blue', 'green'])\n",
    "plt.title('Average Mood Levels by Subject')\n",
    "plt.ylabel('Mood Level')\n",
    "plt.xlabel('Subject')\n",
    "\n",
    "# Plot Task Completion Rates\n",
    "plt.subplot(1, 2, 2)\n",
    "plt.bar(subjects, task_completion_rates, color=['blue', 'orange', 'red', 'blue', 'green'])\n",
    "plt.title('Task Completion Rates by Subject')\n",
    "plt.ylabel('Completion Rate (%)')\n",
    "plt.xlabel('Subject')\n",
    "\n",
    "plt.tight_layout()\n",
    "plt.show()\n"
   ]
  },
  {
   "cell_type": "code",
   "execution_count": null,
   "metadata": {},
   "outputs": [],
   "source": [
    "df2['Subject'].replace(to_replace='SE', value=2, inplace=True)\n",
    "df2['Subject'].replace(to_replace='PBR', value=3, inplace=True)\n",
    "df2['Subject'].replace(to_replace='DT', value=4, inplace=True)\n",
    "df2['Subject'].replace(to_replace='DBW', value=5, inplace=True)\n",
    "df2['Subject'].replace(to_replace='PPI', value=6, inplace=True)\n"
   ]
  },
  {
   "cell_type": "code",
   "execution_count": null,
   "metadata": {},
   "outputs": [],
   "source": [
    "df2[\"Duration_Minutes\"] = df2[\"Duration_H:M\"].apply(\n",
    "    lambda x: int(x.split(\":\")[0]) * 60 + int(x.split(\":\")[1])\n",
    ")\n",
    "df3=df2[['Subject','Mood Level','Task', 'Duration_Minutes']]\n",
    "correlation_matrix = df3.corr()\n",
    "# Set the size of the heatmap\n",
    "plt.figure(figsize=(8, 6))\n",
    "# Create the heatmap\n",
    "sns.heatmap(correlation_matrix, annot=True, fmt=\".2f\", cmap='coolwarm', square=True, cbar_kws={\"shrink\": .8})\n",
    "# Add title\n",
    "plt.title('Correlation Heatmap', fontsize=16)\n",
    "# Show the plot\n",
    "plt.show()\n"
   ]
  },
  {
   "cell_type": "code",
   "execution_count": null,
   "metadata": {},
   "outputs": [],
   "source": [
    "import matplotlib.pyplot as plt\n",
    "\n",
    "# Convert 'Duration' to total hours\n",
    "df2['Duration_Hours'] = df2['Duration'].apply(\n",
    "    lambda x: int(x.split(\":\")[0]) + int(x.split(\":\")[1]) / 60 + int(x.split(\":\")[2]) / 3600\n",
    ")\n",
    "\n",
    "# Scatter plot: Study Duration (Hours) vs Mood Level\n",
    "plt.figure(figsize=(8, 6))\n",
    "plt.scatter(df2['Duration_Hours'], df2['Mood Level'], color='blue', alpha=0.7)\n",
    "plt.title('Study Duration (Hours) vs Mood Level')\n",
    "plt.xlabel('Study Duration (hours)')\n",
    "plt.ylabel('Mood Level')\n",
    "plt.grid(True, linestyle='--', alpha=0.5)\n",
    "plt.show()\n"
   ]
  },
  {
   "cell_type": "code",
   "execution_count": null,
   "metadata": {},
   "outputs": [],
   "source": [
    "# Group study durations by 'Time of Day'\n",
    "time_of_day_durations = df2.groupby('Time of Day')['Duration_Hours'].sum()\n",
    "\n",
    "# Create a pie chart to visualize proportions\n",
    "plt.figure(figsize=(5, 5))\n",
    "time_of_day_durations.plot(kind='pie', autopct='%1.1f%%', startangle=90, \n",
    "                           colors=['orange', 'lightgreen', 'lightgreen', 'plum'], \n",
    "                           wedgeprops={'edgecolor': 'black','width': 0.6}, )\n",
    "\n",
    "# Add title\n",
    "plt.title('Proportion of Study Duration by Time of Day')\n",
    "plt.ylabel('')  # Remove default ylabel\n",
    "plt.show()\n"
   ]
  },
  {
   "cell_type": "code",
   "execution_count": null,
   "metadata": {},
   "outputs": [],
   "source": [
    "# Scatter plot: Study Duration vs Mood Level\n",
    "plt.figure(figsize=(8, 6))\n",
    "plt.scatter(df2['Duration_Minutes'], df2['Mood Level'], color='blue', alpha=0.7)\n",
    "plt.title('Study Duration vs Mood Level')\n",
    "plt.xlabel('Study Duration (minutes)')\n",
    "plt.ylabel('Mood Level')\n",
    "plt.grid(True, linestyle='--', alpha=0.5)\n",
    "plt.show()\n"
   ]
  },
  {
   "cell_type": "code",
   "execution_count": null,
   "metadata": {},
   "outputs": [],
   "source": [
    "# Ensure the columns 'Mood Level' and 'Duration_Hours' are numeric\n",
    "study_durations = df2['Duration_Hours']\n",
    "mood_levels = df2['Mood Level']\n",
    "\n",
    "# Calculate the correlation coefficient\n",
    "correlation_coefficient = np.corrcoef(study_durations, mood_levels)[0, 1]\n",
    "\n",
    "# Print the result\n",
    "print(f'Correlation Coefficient for Study Duration vs Mood Levels is {correlation_coefficient:.2f}')"
   ]
  },
  {
   "cell_type": "code",
   "execution_count": null,
   "metadata": {},
   "outputs": [],
   "source": [
    "average_study_duration = df2[\"Duration_Hours\"].mean()\n",
    "average_mood_level = df2[\"Mood Level\"].mean()\n",
    "\n",
    "# Print the results\n",
    "print(f\"Average Study Duration: {average_study_duration:.2f} hours/session\")\n",
    "print(f\"Average Mood Level: {average_mood_level:.2f}\")\n",
    "\n",
    "\n",
    "# Convert 'date' column to datetime (optional for sorting or advanced operations)\n",
    "df2[\"date\"] = pd.to_datetime(df2[\"Start date\"])\n",
    "\n",
    "# Calculate total study time per day\n",
    "daily_study_time = df2.groupby(\"date\")[\"Duration_Hours\"].sum()\n",
    "\n",
    "# Calculate the average study time per day\n",
    "average_study_time_per_day = daily_study_time.mean()\n",
    "\n",
    "# Print the results\n",
    "print(f\"Average Study Time per Day: {average_study_time_per_day:.2f} hours/day\")"
   ]
  }
 ],
 "metadata": {
  "kernelspec": {
   "display_name": "Python 3",
   "language": "python",
   "name": "python3"
  },
  "language_info": {
   "codemirror_mode": {
    "name": "ipython",
    "version": 3
   },
   "file_extension": ".py",
   "mimetype": "text/x-python",
   "name": "python",
   "nbconvert_exporter": "python",
   "pygments_lexer": "ipython3",
   "version": "3.10.5"
  }
 },
 "nbformat": 4,
 "nbformat_minor": 2
}
